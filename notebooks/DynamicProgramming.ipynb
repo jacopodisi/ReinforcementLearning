{
 "cells": [
  {
   "cell_type": "code",
   "execution_count": 1,
   "metadata": {
    "collapsed": true
   },
   "outputs": [],
   "source": [
    "import numpy as np\n",
    "import pprint\n",
    "import sys\n",
    "\n",
    "import gym\n",
    "from gym import wrappers\n",
    "from gym import spaces\n",
    "from gym import envs"
   ]
  },
  {
   "cell_type": "code",
   "execution_count": 2,
   "metadata": {
    "collapsed": true
   },
   "outputs": [],
   "source": [
    "class DP(object):\n",
    "    #implement policy iteration algorithm for dynamic programming\n",
    "    def __init__(self, env, discount_factor = 1, theta = 0.000001):\n",
    "        \"\"\"\n",
    "        if not isinstance(env.nS, spaces.discrete.Discrete):\n",
    "            raise NameError('Observation space {} incompatible with {}. (Only supports Discrete observation spaces.)'.format(env.nS, self))\n",
    "        if not isinstance(env.nA, spaces.discrete.Discrete):\n",
    "            raise NameError('Action space {} incompatible with {}. (Only supports Discrete action spaces.)'.format(env.nA, self))\n",
    "        \"\"\"\n",
    "        self.policy = np.ones([env.nS, env.nA]) / env.nA\n",
    "        self.env = env\n",
    "        self.discount_factor = discount_factor\n",
    "        self.theta = theta\n",
    "    \n",
    "    def policy_eval(self):\n",
    "        V = np.zeros(self.env.nS)\n",
    "        c=0\n",
    "        while True:\n",
    "            c += 1\n",
    "            delta = 0\n",
    "            for s in range(self.env.nS):\n",
    "                v = 0\n",
    "                \n",
    "                for a in range(self.env.nA):\n",
    "                    for prob, next_state, reward, done in self.env.P[s][a]:\n",
    "                        v += self.policy[s][a] * prob * (reward + self.discount_factor * V[next_state])\n",
    "                        \n",
    "                delta = max(delta, np.abs(V[s] - v))\n",
    "                V[s] = v\n",
    "                \n",
    "            if delta < self.theta:\n",
    "                break\n",
    "        \n",
    "        return np.array(V)\n",
    "    \n",
    "    def policy_iteration(self):\n",
    "        c=0\n",
    "        while True:\n",
    "            c+=1\n",
    "            l=0\n",
    "            V = self.policy_eval()\n",
    "            policy_stable = True\n",
    "            for s in range(self.env.nS):\n",
    "                chosen_a = np.argmax(self.policy[s])\n",
    "                q_values = np.zeros(self.env.nA)\n",
    "                for a in range(self.env.nA):\n",
    "                    for prob, next_state, reward, done in self.env.P[s][a]:\n",
    "                        q_values[a] += prob * (reward + self.discount_factor * V[next_state])\n",
    "                best_a = np.argmax(q_values)\n",
    "                if chosen_a != best_a:\n",
    "                    policy_stable = False\n",
    "                    l+=1\n",
    "                p = np.eye(self.env.nA)\n",
    "                self.policy[s] = p[best_a]\n",
    "                \n",
    "            print(\"\\rPolicy Improvement iteration {}. Number of instable choice: {}\".format(c,l), end=\"\")\n",
    "            sys.stdout.flush()\n",
    "            if policy_stable:\n",
    "                return\n",
    "            \n",
    "            \n",
    "            \n",
    "    def act(self, ob, reward, done):\n",
    "        return np.argmax(self.policy[ob])    \n",
    "        "
   ]
  },
  {
   "cell_type": "code",
   "execution_count": 3,
   "metadata": {
    "collapsed": false
   },
   "outputs": [
    {
     "name": "stderr",
     "output_type": "stream",
     "text": [
      "[2017-01-20 16:42:51,490] Making new env: Taxi-v1\n",
      "[2017-01-20 16:42:51,546] DEPRECATION WARNING: env.spec.timestep_limit has been deprecated. Replace your call to `env.spec.timestep_limit` with `env.spec.tags.get('wrapper_config.TimeLimit.max_episode_steps')`. This change was made 12/28/2016 and is included in version 0.7.0\n",
      "[2017-01-20 16:42:51,548] Clearing 12 monitor files from previous run (because force=True was provided)\n"
     ]
    },
    {
     "name": "stdout",
     "output_type": "stream",
     "text": [
      "Policy Improvement iteration 11. Number of instable choice: 0"
     ]
    },
    {
     "name": "stderr",
     "output_type": "stream",
     "text": [
      "[2017-01-20 16:43:01,019] Starting new video recorder writing to /Users/jacopo/openaigym/project/DP/results/openaigym.video.0.6625.video000000.json\n",
      "[2017-01-20 16:43:01,025] Starting new video recorder writing to /Users/jacopo/openaigym/project/DP/results/openaigym.video.0.6625.video000001.json\n",
      "[2017-01-20 16:43:01,041] Starting new video recorder writing to /Users/jacopo/openaigym/project/DP/results/openaigym.video.0.6625.video000008.json\n",
      "[2017-01-20 16:43:01,075] Starting new video recorder writing to /Users/jacopo/openaigym/project/DP/results/openaigym.video.0.6625.video000027.json\n",
      "[2017-01-20 16:43:01,103] Starting new video recorder writing to /Users/jacopo/openaigym/project/DP/results/openaigym.video.0.6625.video000064.json\n",
      "[2017-01-20 16:43:01,122] Finished writing results. You can upload them to the scoreboard via gym.upload('/Users/jacopo/openaigym/project/DP/results')\n"
     ]
    }
   ],
   "source": [
    "if __name__ == '__main__':\n",
    "    env = gym.make('Taxi-v1')\n",
    "\n",
    "    # You provide the directory to write to (can be an existing\n",
    "    # directory, including one with existing data -- all monitor files\n",
    "    # will be namespaced). You can also dump to a tempdir if you'd\n",
    "    # like: tempfile.mkdtemp().\n",
    "    outdir = '/Users/jacopo/openaigym/project/DP/results'\n",
    "    env = wrappers.Monitor(env, outdir, force=True)\n",
    "    env.seed(0)\n",
    "    agent = DP(env.unwrapped, discount_factor=0.9)\n",
    "    \n",
    "    agent.policy_iteration()\n",
    "\n",
    "    episode_count = 100\n",
    "    reward = 0\n",
    "    done = False\n",
    "\n",
    "    for i in range(episode_count):\n",
    "        ob = env.reset()\n",
    "        while True:\n",
    "            action = agent.act(ob, reward, done)\n",
    "            ob, reward, done, _ = env.step(action)\n",
    "            if done:\n",
    "                break\n",
    "            # Note there's no env.render() here. But the environment still can open window and\n",
    "            # render if asked by env.monitor: it calls env.render('rgb_array') to record video.\n",
    "            # Video is not recorded every episode, see capped_cubic_video_schedule for details.\n",
    "\n",
    "    # Close the env and write monitor result info to disk\n",
    "    env.close()"
   ]
  },
  {
   "cell_type": "code",
   "execution_count": 4,
   "metadata": {
    "collapsed": false
   },
   "outputs": [
    {
     "name": "stderr",
     "output_type": "stream",
     "text": [
      "[2017-01-20 16:43:04,157] [Taxi-v1] Uploading 100 episodes of training data\n",
      "[2017-01-20 16:43:06,360] [Taxi-v1] Uploading videos of 5 training episodes (1119 bytes)\n",
      "[2017-01-20 16:43:06,808] [Taxi-v1] Creating evaluation object from /Users/jacopo/openaigym/project/DP/results with learning curve and training video\n",
      "[2017-01-20 16:43:07,175] \n",
      "****************************************************\n",
      "You successfully uploaded your evaluation on Taxi-v1 to\n",
      "OpenAI Gym! You can find it at:\n",
      "\n",
      "    https://gym.openai.com/evaluations/eval_r9HLCyRa2kMrVULI6Ig\n",
      "\n",
      "****************************************************\n"
     ]
    }
   ],
   "source": [
    "gym.upload(outdir, api_key='sk_v7ktbUr7SzC68vXvnrwLLQ')"
   ]
  },
  {
   "cell_type": "code",
   "execution_count": null,
   "metadata": {
    "collapsed": true
   },
   "outputs": [],
   "source": []
  }
 ],
 "metadata": {
  "anaconda-cloud": {},
  "kernelspec": {
   "display_name": "Python [conda root]",
   "language": "python",
   "name": "conda-root-py"
  },
  "language_info": {
   "codemirror_mode": {
    "name": "ipython",
    "version": 3
   },
   "file_extension": ".py",
   "mimetype": "text/x-python",
   "name": "python",
   "nbconvert_exporter": "python",
   "pygments_lexer": "ipython3",
   "version": "3.5.2"
  }
 },
 "nbformat": 4,
 "nbformat_minor": 1
}
