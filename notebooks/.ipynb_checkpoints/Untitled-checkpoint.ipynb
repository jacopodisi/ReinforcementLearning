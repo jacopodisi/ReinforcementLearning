{
 "cells": [
  {
   "cell_type": "code",
   "execution_count": null,
   "metadata": {
    "collapsed": true
   },
   "outputs": [],
   "source": [
    "from __future__ import print_function\n",
    "import numpy as np\n",
    "import sys\n",
    "from collections import defaultdict\n",
    "\n",
    "import gym\n",
    "from gym import envs\n",
    "from gym import wrappers"
   ]
  },
  {
   "cell_type": "code",
   "execution_count": null,
   "metadata": {
    "collapsed": true
   },
   "outputs": [],
   "source": [
    "def epsilon_greedy_policy(Q, state, num_actions, epsilon):\n",
    "    policy = np.ones(num_actions, dtype=float) * epsilon / num_actions\n",
    "    best_action = np.argmax(Q[state])\n",
    "    policy[best_action] += 1-epsilon\n",
    "    return policy"
   ]
  },
  {
   "cell_type": "code",
   "execution_count": null,
   "metadata": {
    "collapsed": true
   },
   "outputs": [],
   "source": [
    "def learn(envi, num_episodes, Q= defaultdict(lambda: np.zeros(envi.action_space.n)), discount_factor = 0.8, lambda_factor = 0.9, replacing=True):\n",
    "    for i_episode in range(1,num_episodes+1):\n",
    "        if (i_episode%1000)==0:\n",
    "            print(\"\\rEpisode {}/{}.\".format(i_episode, num_episodes), end=\"\")\n",
    "            sys.stdout.flush()\n",
    "\n",
    "        #initialization: use a list of (state, action) pair to keep\n",
    "        #track of the episode \"history\"\n",
    "        episode = []\n",
    "        E = defaultdict(lambda: np.zeros(envi.action_space.n))\n",
    "        alpha = 1-i_episode/num_episodes\n",
    "        epsilon = (1 - i_episode/num_episodes) ** 2\n",
    "        #initial state\n",
    "        state = envi.reset()\n",
    "        #calculate the e-greedy policy for the init state given the Q function\n",
    "        #and choose the action accordingly\n",
    "        policy = epsilon_greedy_policy(Q, state, envi.action_space.n, epsilon)\n",
    "        action = np.random.choice(np.array(len(policy)), p=policy)\n",
    "        while True:\n",
    "            if ((state, action) not in episode):\n",
    "                episode.append((state, action))\n",
    "            next_state, reward, done, _= envi.step(action)\n",
    "            policy = epsilon_greedy_policy(Q, next_state, envi.action_space.n, epsilon)\n",
    "            next_action = np.random.choice(np.array(len(policy)), p=policy)\n",
    "            delta = reward + discount_factor * Q[next_state][next_action] - Q[state][action]\n",
    "\n",
    "            #updating the trace using the replacing or the eligibility\n",
    "            if replacing:\n",
    "                E[state][action]  = 1\n",
    "            else:\n",
    "                E[state][action]  += 1\n",
    "\n",
    "            #improvement of the Q value function for each state visited in the current episode\n",
    "            for (states, actions) in episode:\n",
    "                Q[states][actions] = Q[states][actions] + alpha * delta * E[states][actions]\n",
    "                E[states][actions] = discount_factor * lambda_factor * E[states][actions]\n",
    "            state = next_state; action = next_action;\n",
    "            if done:\n",
    "                break\n",
    "    return Q"
   ]
  },
  {
   "cell_type": "code",
   "execution_count": null,
   "metadata": {
    "collapsed": true
   },
   "outputs": [],
   "source": [
    "def namelearn(env_name):\n",
    "    env = envs.make(env_name)\n",
    "    outdir = \"/Users/jacopo/openaigym/project/TD/results/Q_Learning/\" + env_name + \"/\"\n",
    "    env = wrappers.Monitor(env, outdir, video_callable=False, force=True)\n",
    "    env.seed(0)\n",
    "    num_episodes = 1000000\n",
    "    Q = learn(envi=env, num_episodes=num_episodes, replacing=False)\n",
    "    env.close()\n",
    "    return Q"
   ]
  },
  {
   "cell_type": "code",
   "execution_count": null,
   "metadata": {
    "collapsed": true
   },
   "outputs": [],
   "source": [
    "if __name__ == \"__main__\":\n",
    "    Q1 = namelearn('FrozenLake-v0')"
   ]
  }
 ],
 "metadata": {
  "anaconda-cloud": {},
  "kernelspec": {
   "display_name": "Python [conda root]",
   "language": "python",
   "name": "conda-root-py"
  },
  "language_info": {
   "codemirror_mode": {
    "name": "ipython",
    "version": 3
   },
   "file_extension": ".py",
   "mimetype": "text/x-python",
   "name": "python",
   "nbconvert_exporter": "python",
   "pygments_lexer": "ipython3",
   "version": "3.5.2"
  }
 },
 "nbformat": 4,
 "nbformat_minor": 2
}
