{
 "cells": [
  {
   "cell_type": "code",
   "execution_count": 2,
   "metadata": {
    "collapsed": false
   },
   "outputs": [],
   "source": [
    "import gym\n",
    "from gym import envs\n",
    "from gym import wrappers\n",
    "\n",
    "import numpy as np\n",
    "import sys\n",
    "from collections import defaultdict\n",
    "import matplotlib\n",
    "\n",
    "import plotting\n",
    "from TD import Sarsa_Lambda\n",
    "from TD import Q_Learning"
   ]
  },
  {
   "cell_type": "code",
   "execution_count": 2,
   "metadata": {
    "collapsed": false
   },
   "outputs": [
    {
     "name": "stderr",
     "output_type": "stream",
     "text": [
      "[2017-01-27 19:00:15,623] Making new env: FrozenLake-v0\n"
     ]
    },
    {
     "name": "stdout",
     "output_type": "stream",
     "text": [
      "Episode 1000000/1000000."
     ]
    }
   ],
   "source": [
    "Q, e_reward_sarsa, e_length_sarsa = Sarsa_Lambda.learn(\n",
    "        env_n='FrozenLake-v0',\\\n",
    "        num_episodes=10000,\\\n",
    "        outdir= \"/Users/jacopo/openaigym/project/TD/results/SARSA_Lambda/\",\\\n",
    "        replacing_traces=True,\\\n",
    "        folder_options = '',\\\n",
    "        delete_content=True,\\\n",
    "        monitor=True)"
   ]
  },
  {
   "cell_type": "code",
   "execution_count": 4,
   "metadata": {
    "collapsed": false
   },
   "outputs": [
    {
     "ename": "TypeError",
     "evalue": "learn() got an unexpected keyword argument 'replacing_traces'",
     "output_type": "error",
     "traceback": [
      "\u001b[0;31m---------------------------------------------------------------------------\u001b[0m",
      "\u001b[0;31mTypeError\u001b[0m                                 Traceback (most recent call last)",
      "\u001b[0;32m<ipython-input-4-0c4e289e4d58>\u001b[0m in \u001b[0;36m<module>\u001b[0;34m()\u001b[0m\n\u001b[1;32m      6\u001b[0m         \u001b[0mfolder_options\u001b[0m \u001b[0;34m=\u001b[0m \u001b[0;34m''\u001b[0m\u001b[0;34m,\u001b[0m\u001b[0;31m\\\u001b[0m\u001b[0;34m\u001b[0m\u001b[0m\n\u001b[1;32m      7\u001b[0m         \u001b[0mdelete_content\u001b[0m\u001b[0;34m=\u001b[0m\u001b[0;32mTrue\u001b[0m\u001b[0;34m,\u001b[0m\u001b[0;31m\\\u001b[0m\u001b[0;34m\u001b[0m\u001b[0m\n\u001b[0;32m----> 8\u001b[0;31m         monitor=True)\n\u001b[0m",
      "\u001b[0;31mTypeError\u001b[0m: learn() got an unexpected keyword argument 'replacing_traces'"
     ]
    }
   ],
   "source": [
    "Qq, e_reward_q, e_length_q = Q_Learning.learn(\n",
    "        env_n='FrozenLake-v0',\\\n",
    "        num_episodes=10000,\\\n",
    "        outdir= \"/Users/jacopo/openaigym/project/TD/results/Q_Learning/\",\\\n",
    "        folder_options = '',\\\n",
    "        delete_content=True,\\\n",
    "        monitor=True)"
   ]
  },
  {
   "cell_type": "code",
   "execution_count": null,
   "metadata": {
    "collapsed": true
   },
   "outputs": [],
   "source": [
    "stats_sarsa = calc_stats(e_reward_sarsa, e_length_sarsa)\n",
    "stats_q = calc_stats(e_reward_q, e_length_q)"
   ]
  },
  {
   "cell_type": "code",
   "execution_count": null,
   "metadata": {
    "collapsed": true
   },
   "outputs": [],
   "source": [
    "plotting.plot_episode_stats(stats_sarsa)"
   ]
  },
  {
   "cell_type": "code",
   "execution_count": null,
   "metadata": {
    "collapsed": true
   },
   "outputs": [],
   "source": [
    "plotting.plot_episode_stats(stats_q)"
   ]
  },
  {
   "cell_type": "code",
   "execution_count": null,
   "metadata": {
    "collapsed": true
   },
   "outputs": [],
   "source": []
  }
 ],
 "metadata": {
  "kernelspec": {
   "display_name": "Python [default]",
   "language": "python",
   "name": "python3"
  },
  "language_info": {
   "codemirror_mode": {
    "name": "ipython",
    "version": 3
   },
   "file_extension": ".py",
   "mimetype": "text/x-python",
   "name": "python",
   "nbconvert_exporter": "python",
   "pygments_lexer": "ipython3",
   "version": "3.5.2"
  }
 },
 "nbformat": 4,
 "nbformat_minor": 2
}
