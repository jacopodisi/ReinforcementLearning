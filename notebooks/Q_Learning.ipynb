{
 "cells": [
  {
   "cell_type": "code",
   "execution_count": 1,
   "metadata": {
    "collapsed": true
   },
   "outputs": [],
   "source": [
    "import numpy as np\n",
    "import sys\n",
    "from collections import defaultdict\n",
    "\n",
    "import gym\n",
    "from gym import envs\n",
    "from gym import wrappers\n",
    "\n",
    "if \"../\" not in sys.path:\n",
    "  sys.path.append(\"../\")\n",
    "\n",
    "import plotting\n",
    "\n",
    "import matplotlib\n",
    "matplotlib.style.use('ggplot')"
   ]
  },
  {
   "cell_type": "code",
   "execution_count": 2,
   "metadata": {
    "collapsed": true
   },
   "outputs": [],
   "source": [
    "def epsilon_greedy_policy(Q, state, num_actions, epsilon):\n",
    "    policy = np.ones(num_actions, dtype=float) * epsilon / num_actions\n",
    "    best_action = np.argmax(Q[state])\n",
    "    policy[best_action] += 1-epsilon\n",
    "    return policy"
   ]
  },
  {
   "cell_type": "code",
   "execution_count": 6,
   "metadata": {
    "collapsed": false
   },
   "outputs": [],
   "source": [
    "def learn(\n",
    "    env_n,\\\n",
    "    num_episodes,\\\n",
    "    outdir,\\\n",
    "    Q= defaultdict(lambda: np.zeros(env.action_space.n)),\\\n",
    "    discount_factor = 0.8,\\\n",
    "    folder_options = '',\\\n",
    "    delete_content=False,\\\n",
    "    monitor=False):\n",
    "    \n",
    "    #environment initialization\n",
    "    envi = gym.make(env_n)\n",
    "    outdir = outdir + env_n + folder_options + \"/\"\n",
    "    global env\n",
    "    env = (wrappers.Monitor(envi, outdir, video_callable=False, force=delete_content) if monitor else envi)\n",
    "\n",
    "    er = np.zeros(num_episodes)\n",
    "    el = np.zeors(num_episodes)\n",
    "\n",
    "    for i_episode in range(1,num_episodes+1):\n",
    "        #give response to the user\n",
    "        if (i_episode%1000)==0:\n",
    "            print(\"\\rEpisode {}/{}.\".format(i_episode, num_episodes), end=\"\")\n",
    "            sys.stdout.flush()\n",
    "\n",
    "        #initialize alpha and epsilon for each episode\n",
    "        alpha = 0.5\n",
    "        epsilon = (1-i_episode/num_episodes) ** 2\n",
    "\n",
    "        state = env.reset()\n",
    "\n",
    "        #calculate the e-greedy (behavior) policy given the Q function\n",
    "        #and choose the action accordingly\n",
    "        policy = epsilon_greedy_policy(Q, state, env.action_space.n, epsilon)\n",
    "        action = np.random.choice(np.array(len(policy)), p=policy)\n",
    "\n",
    "        while True:\n",
    "            next_state, reward, done, _= env.step(action)\n",
    "            policy = epsilon_greedy_policy(Q, next_state, env.action_space.n, epsilon)\n",
    "            next_action = np.random.choice(np.array(len(policy)), p=policy)\n",
    "\n",
    "            # Update statistics\n",
    "            er[i_episode-1] += reward\n",
    "            el[i_episode-1] += 1\n",
    "\n",
    "            #improvement of the Q function for the current (state, action) for the deterministic policy, following the e-greedy one\n",
    "            delta = reward + discount_factor * np.max(Q[next_state]) - Q[state][action]\n",
    "            Q[state][action] = Q[state][action] + alpha * delta\n",
    "\n",
    "            state = next_state; action = next_action;\n",
    "            if done:\n",
    "                break\n",
    "    return Q, er, el"
   ]
  },
  {
   "cell_type": "code",
   "execution_count": 7,
   "metadata": {
    "collapsed": false,
    "scrolled": true
   },
   "outputs": [
    {
     "name": "stderr",
     "output_type": "stream",
     "text": [
      "[2017-01-26 18:14:28,346] Making new env: FrozenLake-v0\n"
     ]
    },
    {
     "name": "stdout",
     "output_type": "stream",
     "text": [
      "Episode 5000/5000."
     ]
    }
   ],
   "source": [
    "Q, episode_reward, episode_length = learn(\n",
    "    env_n='FrozenLake-v0',\\\n",
    "    num_episodes=10000,\\\n",
    "    outdir= \"/Users/jacopo/openaigym/project/TD/results/Q_Learning/\",\\\n",
    "    folder_options = '',\\\n",
    "    delete_content=False,\\\n",
    "    monitor=False)"
   ]
  },
  {
   "cell_type": "code",
   "execution_count": null,
   "metadata": {
    "collapsed": true
   },
   "outputs": [],
   "source": [
    "stats = plotting.calc_stats(er, el)\n",
    "plotting.plot_episode_stats(stats)"
   ]
  }
 ],
 "metadata": {
  "anaconda-cloud": {},
  "kernelspec": {
   "display_name": "Python [default]",
   "language": "python",
   "name": "python3"
  },
  "language_info": {
   "codemirror_mode": {
    "name": "ipython",
    "version": 3
   },
   "file_extension": ".py",
   "mimetype": "text/x-python",
   "name": "python",
   "nbconvert_exporter": "python",
   "pygments_lexer": "ipython3",
   "version": "3.5.2"
  }
 },
 "nbformat": 4,
 "nbformat_minor": 2
}
