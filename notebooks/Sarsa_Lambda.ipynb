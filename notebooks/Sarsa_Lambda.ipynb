{
 "cells": [
  {
   "cell_type": "code",
   "execution_count": 3,
   "metadata": {
    "collapsed": false
   },
   "outputs": [],
   "source": [
    "import gym\n",
    "from gym import envs\n",
    "from gym import wrappers\n",
    "\n",
    "import numpy as np\n",
    "import sys\n",
    "from collections import defaultdict\n",
    "\n",
    "if \"../\" not in sys.path:\n",
    "  sys.path.append(\"../\")\n",
    "\n",
    "import plotting\n",
    "\n",
    "import matplotlib\n",
    "matplotlib.style.use('ggplot')"
   ]
  },
  {
   "cell_type": "code",
   "execution_count": 4,
   "metadata": {
    "collapsed": true
   },
   "outputs": [],
   "source": [
    "def epsilon_greedy_policy(Q, state, num_actions, epsilon):\n",
    "    policy = np.ones(num_actions, dtype=float) * epsilon / num_actions\n",
    "    best_action = np.argmax(Q[state])\n",
    "    policy[best_action] += 1-epsilon\n",
    "    return policy"
   ]
  },
  {
   "cell_type": "code",
   "execution_count": 116,
   "metadata": {
    "collapsed": false
   },
   "outputs": [],
   "source": [
    "def learn(env_n, num_episodes,\\\n",
    "        outdir,\\\n",
    "        Q= defaultdict(lambda: np.zeros(env.action_space.n)),\\\n",
    "        discount_factor = 0.8,\\\n",
    "        lambda_factor = 0.9,\\\n",
    "        replacing_traces=True,\\\n",
    "        folder_options = '',\\\n",
    "        delete_content=False,\\\n",
    "        monitor=False):\n",
    "    envi = gym.make(env_n)\n",
    "    outdir = outdir + env_n + folder_options + \"/\"\n",
    "    global env\n",
    "    env = (wrappers.Monitor(envi, outdir, video_callable=False, force=delete_content) if monitor else envi)\n",
    "    \n",
    "    er = np.zeros(num_episodes)\n",
    "    el = np.zeros(num_episodes)\n",
    "    \n",
    "    for i_episode in range(1,num_episodes+1):\n",
    "        if (i_episode%1000)==0:\n",
    "            print(\"\\rEpisode {}/{}.\".format(i_episode, num_episodes), end=\"\")\n",
    "            sys.stdout.flush()\n",
    "\n",
    "        #initialization: use a list of (state, action) pair to keep\n",
    "        #track of the episode \"history\"\n",
    "        episode = []\n",
    "        E = defaultdict(lambda: np.zeros(env.action_space.n))\n",
    "        alpha = 1 - i_episode/num_episodes #0.04\n",
    "        epsilon = (1 - i_episode/num_episodes) ** 2\n",
    "        #initial state\n",
    "        state = env.reset()\n",
    "        #calculate the e-greedy policy for the init state given the Q function\n",
    "        #and choose the action accordingly\n",
    "        policy = epsilon_greedy_policy(Q, state, env.action_space.n, epsilon)\n",
    "        action = np.random.choice(np.array(len(policy)), p=policy)\n",
    "        while True:\n",
    "            if ((state, action) not in episode):\n",
    "                episode.append((state, action))\n",
    "            next_state, reward, done, _= env.step(action)\n",
    "            r = -1 if (done and reward==0) else reward\n",
    "            policy = epsilon_greedy_policy(Q, next_state, env.action_space.n, epsilon)\n",
    "            next_action = np.random.choice(np.array(len(policy)), p=policy)\n",
    "            delta = r + discount_factor * Q[next_state][next_action] - Q[state][action]\n",
    "            \n",
    "            # Update statistics\n",
    "            # Update statistics\n",
    "            er[i_episode-1] += reward\n",
    "            el[i_episode-1] += 1\n",
    "\n",
    "            #updating the trace using the replacing or the eligibility\n",
    "            if replacing_traces:\n",
    "                E[state][action]  = 1\n",
    "            else:\n",
    "                E[state][action]  += 1\n",
    "\n",
    "            #improvement of the Q value function for each state visited in the current episode\n",
    "            for (states, actions) in episode:\n",
    "                Q[states][actions] = Q[states][actions] + alpha * delta * E[states][actions]\n",
    "                E[states][actions] = discount_factor * lambda_factor * E[states][actions]\n",
    "                \n",
    "            \n",
    "            state = next_state; action = next_action;\n",
    "            if done:\n",
    "                break\n",
    "    env.close()\n",
    "    return Q, er, el"
   ]
  },
  {
   "cell_type": "code",
   "execution_count": 120,
   "metadata": {
    "collapsed": false,
    "scrolled": false
   },
   "outputs": [
    {
     "name": "stderr",
     "output_type": "stream",
     "text": [
      "[2017-01-28 17:35:00,798] Making new env: FrozenLake-v0\n",
      "[2017-01-28 17:35:00,809] DEPRECATION WARNING: env.spec.timestep_limit has been deprecated. Replace your call to `env.spec.timestep_limit` with `env.spec.tags.get('wrapper_config.TimeLimit.max_episode_steps')`. This change was made 12/28/2016 and is included in version 0.7.0\n",
      "[2017-01-28 17:35:00,811] Creating monitor directory /Users/jacopo/openaigym/project/TD/results/SARSA_Lambda/FrozenLake-v01000/\n"
     ]
    },
    {
     "name": "stdout",
     "output_type": "stream",
     "text": [
      "\r",
      "Episode 1000/1000."
     ]
    },
    {
     "name": "stderr",
     "output_type": "stream",
     "text": [
      "[2017-01-28 17:35:01,766] Finished writing results. You can upload them to the scoreboard via gym.upload('/Users/jacopo/openaigym/project/TD/results/SARSA_Lambda/FrozenLake-v01000')\n"
     ]
    }
   ],
   "source": [
    "Q, er, el = learn(\n",
    "    env_n='FrozenLake-v0',\\\n",
    "    num_episodes=1000,\\\n",
    "    outdir= \"/Users/jacopo/openaigym/project/TD/results/SARSA_Lambda/\",\\\n",
    "    replacing_traces=True,\\\n",
    "    folder_options = '1000',\\\n",
    "    delete_content=True,\\\n",
    "    monitor=True)"
   ]
  },
  {
   "cell_type": "code",
   "execution_count": 121,
   "metadata": {
    "collapsed": false,
    "scrolled": true
   },
   "outputs": [],
   "source": [
    "stats = plotting.calc_stats(er, el)\n",
    "plotting.plot_episode_stats(stats)"
   ]
  }
 ],
 "metadata": {
  "anaconda-cloud": {},
  "kernelspec": {
   "display_name": "Python [default]",
   "language": "python",
   "name": "python3"
  },
  "language_info": {
   "codemirror_mode": {
    "name": "ipython",
    "version": 3
   },
   "file_extension": ".py",
   "mimetype": "text/x-python",
   "name": "python",
   "nbconvert_exporter": "python",
   "pygments_lexer": "ipython3",
   "version": "3.5.2"
  }
 },
 "nbformat": 4,
 "nbformat_minor": 2
}
